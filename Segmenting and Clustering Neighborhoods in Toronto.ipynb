{
    "cells": [
        {
            "cell_type": "code",
            "execution_count": 1,
            "metadata": {},
            "outputs": [],
            "source": "import pandas as pd\nimport numpy as np"
        },
        {
            "cell_type": "code",
            "execution_count": 2,
            "metadata": {},
            "outputs": [],
            "source": "canada=pd.read_html('https://en.wikipedia.org/wiki/List_of_postal_codes_of_Canada:_M')"
        },
        {
            "cell_type": "code",
            "execution_count": 3,
            "metadata": {},
            "outputs": [
                {
                    "data": {
                        "text/plain": "[    Postal Code           Borough  \\\n 0           M1A      Not assigned   \n 1           M2A      Not assigned   \n 2           M3A        North York   \n 3           M4A        North York   \n 4           M5A  Downtown Toronto   \n ..          ...               ...   \n 175         M5Z      Not assigned   \n 176         M6Z      Not assigned   \n 177         M7Z      Not assigned   \n 178         M8Z         Etobicoke   \n 179         M9Z      Not assigned   \n \n                                          Neighbourhood  \n 0                                         Not assigned  \n 1                                         Not assigned  \n 2                                            Parkwoods  \n 3                                     Victoria Village  \n 4                            Regent Park, Harbourfront  \n ..                                                 ...  \n 175                                       Not assigned  \n 176                                       Not assigned  \n 177                                       Not assigned  \n 178  Mimico NW, The Queensway West, South of Bloor,...  \n 179                                       Not assigned  \n \n [180 rows x 3 columns],\n                                                   0   \\\n 0                                                NaN   \n 1  NL NS PE NB QC ON MB SK AB BC NU/NT YT A B C E...   \n 2                                                 NL   \n 3                                                  A   \n \n                                                   1   \\\n 0                              Canadian postal codes   \n 1  NL NS PE NB QC ON MB SK AB BC NU/NT YT A B C E...   \n 2                                                 NS   \n 3                                                  B   \n \n                                                   2    3    4    5    6    7   \\\n 0                                                NaN  NaN  NaN  NaN  NaN  NaN   \n 1  NL NS PE NB QC ON MB SK AB BC NU/NT YT A B C E...  NaN  NaN  NaN  NaN  NaN   \n 2                                                 PE   NB   QC   QC   QC   ON   \n 3                                                  C    E    G    H    J    K   \n \n     8    9    10   11   12   13   14   15     16   17  \n 0  NaN  NaN  NaN  NaN  NaN  NaN  NaN  NaN    NaN  NaN  \n 1  NaN  NaN  NaN  NaN  NaN  NaN  NaN  NaN    NaN  NaN  \n 2   ON   ON   ON   ON   MB   SK   AB   BC  NU/NT   YT  \n 3    L    M    N    P    R    S    T    V      X    Y  ,\n    0   1   2   3   4   5   6   7   8   9   10  11  12  13  14  15     16  17\n 0  NL  NS  PE  NB  QC  QC  QC  ON  ON  ON  ON  ON  MB  SK  AB  BC  NU/NT  YT\n 1   A   B   C   E   G   H   J   K   L   M   N   P   R   S   T   V      X   Y]"
                    },
                    "execution_count": 3,
                    "metadata": {},
                    "output_type": "execute_result"
                }
            ],
            "source": "canada"
        },
        {
            "cell_type": "code",
            "execution_count": 4,
            "metadata": {},
            "outputs": [
                {
                    "data": {
                        "text/html": "<div>\n<style scoped>\n    .dataframe tbody tr th:only-of-type {\n        vertical-align: middle;\n    }\n\n    .dataframe tbody tr th {\n        vertical-align: top;\n    }\n\n    .dataframe thead th {\n        text-align: right;\n    }\n</style>\n<table border=\"1\" class=\"dataframe\">\n  <thead>\n    <tr style=\"text-align: right;\">\n      <th></th>\n      <th>Postal Code</th>\n      <th>Borough</th>\n      <th>Neighbourhood</th>\n    </tr>\n  </thead>\n  <tbody>\n    <tr>\n      <th>0</th>\n      <td>M1A</td>\n      <td>Not assigned</td>\n      <td>Not assigned</td>\n    </tr>\n    <tr>\n      <th>1</th>\n      <td>M2A</td>\n      <td>Not assigned</td>\n      <td>Not assigned</td>\n    </tr>\n    <tr>\n      <th>2</th>\n      <td>M3A</td>\n      <td>North York</td>\n      <td>Parkwoods</td>\n    </tr>\n    <tr>\n      <th>3</th>\n      <td>M4A</td>\n      <td>North York</td>\n      <td>Victoria Village</td>\n    </tr>\n    <tr>\n      <th>4</th>\n      <td>M5A</td>\n      <td>Downtown Toronto</td>\n      <td>Regent Park, Harbourfront</td>\n    </tr>\n    <tr>\n      <th>...</th>\n      <td>...</td>\n      <td>...</td>\n      <td>...</td>\n    </tr>\n    <tr>\n      <th>175</th>\n      <td>M5Z</td>\n      <td>Not assigned</td>\n      <td>Not assigned</td>\n    </tr>\n    <tr>\n      <th>176</th>\n      <td>M6Z</td>\n      <td>Not assigned</td>\n      <td>Not assigned</td>\n    </tr>\n    <tr>\n      <th>177</th>\n      <td>M7Z</td>\n      <td>Not assigned</td>\n      <td>Not assigned</td>\n    </tr>\n    <tr>\n      <th>178</th>\n      <td>M8Z</td>\n      <td>Etobicoke</td>\n      <td>Mimico NW, The Queensway West, South of Bloor,...</td>\n    </tr>\n    <tr>\n      <th>179</th>\n      <td>M9Z</td>\n      <td>Not assigned</td>\n      <td>Not assigned</td>\n    </tr>\n  </tbody>\n</table>\n<p>180 rows \u00d7 3 columns</p>\n</div>",
                        "text/plain": "    Postal Code           Borough  \\\n0           M1A      Not assigned   \n1           M2A      Not assigned   \n2           M3A        North York   \n3           M4A        North York   \n4           M5A  Downtown Toronto   \n..          ...               ...   \n175         M5Z      Not assigned   \n176         M6Z      Not assigned   \n177         M7Z      Not assigned   \n178         M8Z         Etobicoke   \n179         M9Z      Not assigned   \n\n                                         Neighbourhood  \n0                                         Not assigned  \n1                                         Not assigned  \n2                                            Parkwoods  \n3                                     Victoria Village  \n4                            Regent Park, Harbourfront  \n..                                                 ...  \n175                                       Not assigned  \n176                                       Not assigned  \n177                                       Not assigned  \n178  Mimico NW, The Queensway West, South of Bloor,...  \n179                                       Not assigned  \n\n[180 rows x 3 columns]"
                    },
                    "execution_count": 4,
                    "metadata": {},
                    "output_type": "execute_result"
                }
            ],
            "source": "canada[0]"
        },
        {
            "cell_type": "code",
            "execution_count": 5,
            "metadata": {},
            "outputs": [
                {
                    "data": {
                        "text/plain": "'M9A'"
                    },
                    "execution_count": 5,
                    "metadata": {},
                    "output_type": "execute_result"
                }
            ],
            "source": "canada[0]['Postal Code'][8]"
        },
        {
            "cell_type": "code",
            "execution_count": 6,
            "metadata": {},
            "outputs": [],
            "source": "#for i in range(1, 180):\nPostalCode= canada[0]['Postal Code'] \nBorough = canada[0]['Borough'] \nNeighborhood= canada[0]['Neighbourhood'] "
        },
        {
            "cell_type": "code",
            "execution_count": 7,
            "metadata": {},
            "outputs": [
                {
                    "data": {
                        "text/plain": "0                                           Not assigned\n1                                           Not assigned\n2                                              Parkwoods\n3                                       Victoria Village\n4                              Regent Park, Harbourfront\n                             ...                        \n175                                         Not assigned\n176                                         Not assigned\n177                                         Not assigned\n178    Mimico NW, The Queensway West, South of Bloor,...\n179                                         Not assigned\nName: Neighbourhood, Length: 180, dtype: object"
                    },
                    "execution_count": 7,
                    "metadata": {},
                    "output_type": "execute_result"
                }
            ],
            "source": "Neighborhood"
        },
        {
            "cell_type": "code",
            "execution_count": 8,
            "metadata": {},
            "outputs": [],
            "source": "column_names = ['PostalCode','Borough', 'Neighborhood'] "
        },
        {
            "cell_type": "code",
            "execution_count": 9,
            "metadata": {},
            "outputs": [],
            "source": "df_canada = pd.DataFrame(columns=column_names)"
        },
        {
            "cell_type": "code",
            "execution_count": 10,
            "metadata": {},
            "outputs": [
                {
                    "data": {
                        "text/html": "<div>\n<style scoped>\n    .dataframe tbody tr th:only-of-type {\n        vertical-align: middle;\n    }\n\n    .dataframe tbody tr th {\n        vertical-align: top;\n    }\n\n    .dataframe thead th {\n        text-align: right;\n    }\n</style>\n<table border=\"1\" class=\"dataframe\">\n  <thead>\n    <tr style=\"text-align: right;\">\n      <th></th>\n      <th>PostalCode</th>\n      <th>Borough</th>\n      <th>Neighborhood</th>\n    </tr>\n  </thead>\n  <tbody>\n  </tbody>\n</table>\n</div>",
                        "text/plain": "Empty DataFrame\nColumns: [PostalCode, Borough, Neighborhood]\nIndex: []"
                    },
                    "execution_count": 10,
                    "metadata": {},
                    "output_type": "execute_result"
                }
            ],
            "source": "df_canada"
        },
        {
            "cell_type": "code",
            "execution_count": 11,
            "metadata": {},
            "outputs": [],
            "source": "df_canada=pd.DataFrame({'PostalCode':PostalCode, 'Borough':Borough, 'Neighborhood':Neighborhood})"
        },
        {
            "cell_type": "code",
            "execution_count": 12,
            "metadata": {},
            "outputs": [
                {
                    "data": {
                        "text/html": "<div>\n<style scoped>\n    .dataframe tbody tr th:only-of-type {\n        vertical-align: middle;\n    }\n\n    .dataframe tbody tr th {\n        vertical-align: top;\n    }\n\n    .dataframe thead th {\n        text-align: right;\n    }\n</style>\n<table border=\"1\" class=\"dataframe\">\n  <thead>\n    <tr style=\"text-align: right;\">\n      <th></th>\n      <th>PostalCode</th>\n      <th>Borough</th>\n      <th>Neighborhood</th>\n    </tr>\n  </thead>\n  <tbody>\n    <tr>\n      <th>0</th>\n      <td>M1A</td>\n      <td>Not assigned</td>\n      <td>Not assigned</td>\n    </tr>\n    <tr>\n      <th>1</th>\n      <td>M2A</td>\n      <td>Not assigned</td>\n      <td>Not assigned</td>\n    </tr>\n    <tr>\n      <th>2</th>\n      <td>M3A</td>\n      <td>North York</td>\n      <td>Parkwoods</td>\n    </tr>\n    <tr>\n      <th>3</th>\n      <td>M4A</td>\n      <td>North York</td>\n      <td>Victoria Village</td>\n    </tr>\n    <tr>\n      <th>4</th>\n      <td>M5A</td>\n      <td>Downtown Toronto</td>\n      <td>Regent Park, Harbourfront</td>\n    </tr>\n    <tr>\n      <th>5</th>\n      <td>M6A</td>\n      <td>North York</td>\n      <td>Lawrence Manor, Lawrence Heights</td>\n    </tr>\n    <tr>\n      <th>6</th>\n      <td>M7A</td>\n      <td>Downtown Toronto</td>\n      <td>Queen's Park, Ontario Provincial Government</td>\n    </tr>\n    <tr>\n      <th>7</th>\n      <td>M8A</td>\n      <td>Not assigned</td>\n      <td>Not assigned</td>\n    </tr>\n    <tr>\n      <th>8</th>\n      <td>M9A</td>\n      <td>Etobicoke</td>\n      <td>Islington Avenue, Humber Valley Village</td>\n    </tr>\n    <tr>\n      <th>9</th>\n      <td>M1B</td>\n      <td>Scarborough</td>\n      <td>Malvern, Rouge</td>\n    </tr>\n    <tr>\n      <th>10</th>\n      <td>M2B</td>\n      <td>Not assigned</td>\n      <td>Not assigned</td>\n    </tr>\n    <tr>\n      <th>11</th>\n      <td>M3B</td>\n      <td>North York</td>\n      <td>Don Mills</td>\n    </tr>\n    <tr>\n      <th>12</th>\n      <td>M4B</td>\n      <td>East York</td>\n      <td>Parkview Hill, Woodbine Gardens</td>\n    </tr>\n    <tr>\n      <th>13</th>\n      <td>M5B</td>\n      <td>Downtown Toronto</td>\n      <td>Garden District, Ryerson</td>\n    </tr>\n    <tr>\n      <th>14</th>\n      <td>M6B</td>\n      <td>North York</td>\n      <td>Glencairn</td>\n    </tr>\n    <tr>\n      <th>15</th>\n      <td>M7B</td>\n      <td>Not assigned</td>\n      <td>Not assigned</td>\n    </tr>\n    <tr>\n      <th>16</th>\n      <td>M8B</td>\n      <td>Not assigned</td>\n      <td>Not assigned</td>\n    </tr>\n    <tr>\n      <th>17</th>\n      <td>M9B</td>\n      <td>Etobicoke</td>\n      <td>West Deane Park, Princess Gardens, Martin Grov...</td>\n    </tr>\n    <tr>\n      <th>18</th>\n      <td>M1C</td>\n      <td>Scarborough</td>\n      <td>Rouge Hill, Port Union, Highland Creek</td>\n    </tr>\n    <tr>\n      <th>19</th>\n      <td>M2C</td>\n      <td>Not assigned</td>\n      <td>Not assigned</td>\n    </tr>\n  </tbody>\n</table>\n</div>",
                        "text/plain": "   PostalCode           Borough  \\\n0         M1A      Not assigned   \n1         M2A      Not assigned   \n2         M3A        North York   \n3         M4A        North York   \n4         M5A  Downtown Toronto   \n5         M6A        North York   \n6         M7A  Downtown Toronto   \n7         M8A      Not assigned   \n8         M9A         Etobicoke   \n9         M1B       Scarborough   \n10        M2B      Not assigned   \n11        M3B        North York   \n12        M4B         East York   \n13        M5B  Downtown Toronto   \n14        M6B        North York   \n15        M7B      Not assigned   \n16        M8B      Not assigned   \n17        M9B         Etobicoke   \n18        M1C       Scarborough   \n19        M2C      Not assigned   \n\n                                         Neighborhood  \n0                                        Not assigned  \n1                                        Not assigned  \n2                                           Parkwoods  \n3                                    Victoria Village  \n4                           Regent Park, Harbourfront  \n5                    Lawrence Manor, Lawrence Heights  \n6         Queen's Park, Ontario Provincial Government  \n7                                        Not assigned  \n8             Islington Avenue, Humber Valley Village  \n9                                      Malvern, Rouge  \n10                                       Not assigned  \n11                                          Don Mills  \n12                    Parkview Hill, Woodbine Gardens  \n13                           Garden District, Ryerson  \n14                                          Glencairn  \n15                                       Not assigned  \n16                                       Not assigned  \n17  West Deane Park, Princess Gardens, Martin Grov...  \n18             Rouge Hill, Port Union, Highland Creek  \n19                                       Not assigned  "
                    },
                    "execution_count": 12,
                    "metadata": {},
                    "output_type": "execute_result"
                }
            ],
            "source": "df_canada.head(20)"
        },
        {
            "cell_type": "code",
            "execution_count": 13,
            "metadata": {},
            "outputs": [],
            "source": "df_canada.replace(\"Not assigned\", np.nan, inplace = True)"
        },
        {
            "cell_type": "code",
            "execution_count": 14,
            "metadata": {},
            "outputs": [
                {
                    "data": {
                        "text/html": "<div>\n<style scoped>\n    .dataframe tbody tr th:only-of-type {\n        vertical-align: middle;\n    }\n\n    .dataframe tbody tr th {\n        vertical-align: top;\n    }\n\n    .dataframe thead th {\n        text-align: right;\n    }\n</style>\n<table border=\"1\" class=\"dataframe\">\n  <thead>\n    <tr style=\"text-align: right;\">\n      <th></th>\n      <th>PostalCode</th>\n      <th>Borough</th>\n      <th>Neighborhood</th>\n    </tr>\n  </thead>\n  <tbody>\n    <tr>\n      <th>0</th>\n      <td>M1A</td>\n      <td>NaN</td>\n      <td>NaN</td>\n    </tr>\n    <tr>\n      <th>1</th>\n      <td>M2A</td>\n      <td>NaN</td>\n      <td>NaN</td>\n    </tr>\n    <tr>\n      <th>2</th>\n      <td>M3A</td>\n      <td>North York</td>\n      <td>Parkwoods</td>\n    </tr>\n    <tr>\n      <th>3</th>\n      <td>M4A</td>\n      <td>North York</td>\n      <td>Victoria Village</td>\n    </tr>\n    <tr>\n      <th>4</th>\n      <td>M5A</td>\n      <td>Downtown Toronto</td>\n      <td>Regent Park, Harbourfront</td>\n    </tr>\n  </tbody>\n</table>\n</div>",
                        "text/plain": "  PostalCode           Borough               Neighborhood\n0        M1A               NaN                        NaN\n1        M2A               NaN                        NaN\n2        M3A        North York                  Parkwoods\n3        M4A        North York           Victoria Village\n4        M5A  Downtown Toronto  Regent Park, Harbourfront"
                    },
                    "execution_count": 14,
                    "metadata": {},
                    "output_type": "execute_result"
                }
            ],
            "source": "df_canada.head()"
        },
        {
            "cell_type": "code",
            "execution_count": 15,
            "metadata": {},
            "outputs": [],
            "source": "# simply drop whole row with NaN in \"price\" column\ndf_canada.dropna(subset=[\"Borough\"], axis=0, inplace=True)\n\n# reset index, because we droped two rows\ndf_canada.reset_index(drop=True, inplace=True)"
        },
        {
            "cell_type": "code",
            "execution_count": 16,
            "metadata": {},
            "outputs": [
                {
                    "data": {
                        "text/html": "<div>\n<style scoped>\n    .dataframe tbody tr th:only-of-type {\n        vertical-align: middle;\n    }\n\n    .dataframe tbody tr th {\n        vertical-align: top;\n    }\n\n    .dataframe thead th {\n        text-align: right;\n    }\n</style>\n<table border=\"1\" class=\"dataframe\">\n  <thead>\n    <tr style=\"text-align: right;\">\n      <th></th>\n      <th>PostalCode</th>\n      <th>Borough</th>\n      <th>Neighborhood</th>\n    </tr>\n  </thead>\n  <tbody>\n    <tr>\n      <th>0</th>\n      <td>M3A</td>\n      <td>North York</td>\n      <td>Parkwoods</td>\n    </tr>\n    <tr>\n      <th>1</th>\n      <td>M4A</td>\n      <td>North York</td>\n      <td>Victoria Village</td>\n    </tr>\n    <tr>\n      <th>2</th>\n      <td>M5A</td>\n      <td>Downtown Toronto</td>\n      <td>Regent Park, Harbourfront</td>\n    </tr>\n    <tr>\n      <th>3</th>\n      <td>M6A</td>\n      <td>North York</td>\n      <td>Lawrence Manor, Lawrence Heights</td>\n    </tr>\n    <tr>\n      <th>4</th>\n      <td>M7A</td>\n      <td>Downtown Toronto</td>\n      <td>Queen's Park, Ontario Provincial Government</td>\n    </tr>\n    <tr>\n      <th>5</th>\n      <td>M9A</td>\n      <td>Etobicoke</td>\n      <td>Islington Avenue, Humber Valley Village</td>\n    </tr>\n    <tr>\n      <th>6</th>\n      <td>M1B</td>\n      <td>Scarborough</td>\n      <td>Malvern, Rouge</td>\n    </tr>\n    <tr>\n      <th>7</th>\n      <td>M3B</td>\n      <td>North York</td>\n      <td>Don Mills</td>\n    </tr>\n    <tr>\n      <th>8</th>\n      <td>M4B</td>\n      <td>East York</td>\n      <td>Parkview Hill, Woodbine Gardens</td>\n    </tr>\n    <tr>\n      <th>9</th>\n      <td>M5B</td>\n      <td>Downtown Toronto</td>\n      <td>Garden District, Ryerson</td>\n    </tr>\n    <tr>\n      <th>10</th>\n      <td>M6B</td>\n      <td>North York</td>\n      <td>Glencairn</td>\n    </tr>\n    <tr>\n      <th>11</th>\n      <td>M9B</td>\n      <td>Etobicoke</td>\n      <td>West Deane Park, Princess Gardens, Martin Grov...</td>\n    </tr>\n    <tr>\n      <th>12</th>\n      <td>M1C</td>\n      <td>Scarborough</td>\n      <td>Rouge Hill, Port Union, Highland Creek</td>\n    </tr>\n    <tr>\n      <th>13</th>\n      <td>M3C</td>\n      <td>North York</td>\n      <td>Don Mills</td>\n    </tr>\n    <tr>\n      <th>14</th>\n      <td>M4C</td>\n      <td>East York</td>\n      <td>Woodbine Heights</td>\n    </tr>\n    <tr>\n      <th>15</th>\n      <td>M5C</td>\n      <td>Downtown Toronto</td>\n      <td>St. James Town</td>\n    </tr>\n    <tr>\n      <th>16</th>\n      <td>M6C</td>\n      <td>York</td>\n      <td>Humewood-Cedarvale</td>\n    </tr>\n    <tr>\n      <th>17</th>\n      <td>M9C</td>\n      <td>Etobicoke</td>\n      <td>Eringate, Bloordale Gardens, Old Burnhamthorpe...</td>\n    </tr>\n    <tr>\n      <th>18</th>\n      <td>M1E</td>\n      <td>Scarborough</td>\n      <td>Guildwood, Morningside, West Hill</td>\n    </tr>\n    <tr>\n      <th>19</th>\n      <td>M4E</td>\n      <td>East Toronto</td>\n      <td>The Beaches</td>\n    </tr>\n    <tr>\n      <th>20</th>\n      <td>M5E</td>\n      <td>Downtown Toronto</td>\n      <td>Berczy Park</td>\n    </tr>\n    <tr>\n      <th>21</th>\n      <td>M6E</td>\n      <td>York</td>\n      <td>Caledonia-Fairbanks</td>\n    </tr>\n    <tr>\n      <th>22</th>\n      <td>M1G</td>\n      <td>Scarborough</td>\n      <td>Woburn</td>\n    </tr>\n    <tr>\n      <th>23</th>\n      <td>M4G</td>\n      <td>East York</td>\n      <td>Leaside</td>\n    </tr>\n    <tr>\n      <th>24</th>\n      <td>M5G</td>\n      <td>Downtown Toronto</td>\n      <td>Central Bay Street</td>\n    </tr>\n  </tbody>\n</table>\n</div>",
                        "text/plain": "   PostalCode           Borough  \\\n0         M3A        North York   \n1         M4A        North York   \n2         M5A  Downtown Toronto   \n3         M6A        North York   \n4         M7A  Downtown Toronto   \n5         M9A         Etobicoke   \n6         M1B       Scarborough   \n7         M3B        North York   \n8         M4B         East York   \n9         M5B  Downtown Toronto   \n10        M6B        North York   \n11        M9B         Etobicoke   \n12        M1C       Scarborough   \n13        M3C        North York   \n14        M4C         East York   \n15        M5C  Downtown Toronto   \n16        M6C              York   \n17        M9C         Etobicoke   \n18        M1E       Scarborough   \n19        M4E      East Toronto   \n20        M5E  Downtown Toronto   \n21        M6E              York   \n22        M1G       Scarborough   \n23        M4G         East York   \n24        M5G  Downtown Toronto   \n\n                                         Neighborhood  \n0                                           Parkwoods  \n1                                    Victoria Village  \n2                           Regent Park, Harbourfront  \n3                    Lawrence Manor, Lawrence Heights  \n4         Queen's Park, Ontario Provincial Government  \n5             Islington Avenue, Humber Valley Village  \n6                                      Malvern, Rouge  \n7                                           Don Mills  \n8                     Parkview Hill, Woodbine Gardens  \n9                            Garden District, Ryerson  \n10                                          Glencairn  \n11  West Deane Park, Princess Gardens, Martin Grov...  \n12             Rouge Hill, Port Union, Highland Creek  \n13                                          Don Mills  \n14                                   Woodbine Heights  \n15                                     St. James Town  \n16                                 Humewood-Cedarvale  \n17  Eringate, Bloordale Gardens, Old Burnhamthorpe...  \n18                  Guildwood, Morningside, West Hill  \n19                                        The Beaches  \n20                                        Berczy Park  \n21                                Caledonia-Fairbanks  \n22                                             Woburn  \n23                                            Leaside  \n24                                 Central Bay Street  "
                    },
                    "execution_count": 16,
                    "metadata": {},
                    "output_type": "execute_result"
                }
            ],
            "source": "df_canada.head(25)"
        },
        {
            "cell_type": "code",
            "execution_count": 17,
            "metadata": {},
            "outputs": [
                {
                    "data": {
                        "text/html": "<div>\n<style scoped>\n    .dataframe tbody tr th:only-of-type {\n        vertical-align: middle;\n    }\n\n    .dataframe tbody tr th {\n        vertical-align: top;\n    }\n\n    .dataframe thead th {\n        text-align: right;\n    }\n</style>\n<table border=\"1\" class=\"dataframe\">\n  <thead>\n    <tr style=\"text-align: right;\">\n      <th></th>\n      <th>PostalCode</th>\n      <th>Borough</th>\n      <th>Neighborhood</th>\n    </tr>\n  </thead>\n  <tbody>\n    <tr>\n      <th>0</th>\n      <td>False</td>\n      <td>False</td>\n      <td>False</td>\n    </tr>\n    <tr>\n      <th>1</th>\n      <td>False</td>\n      <td>False</td>\n      <td>False</td>\n    </tr>\n    <tr>\n      <th>2</th>\n      <td>False</td>\n      <td>False</td>\n      <td>False</td>\n    </tr>\n    <tr>\n      <th>3</th>\n      <td>False</td>\n      <td>False</td>\n      <td>False</td>\n    </tr>\n    <tr>\n      <th>4</th>\n      <td>False</td>\n      <td>False</td>\n      <td>False</td>\n    </tr>\n  </tbody>\n</table>\n</div>",
                        "text/plain": "   PostalCode  Borough  Neighborhood\n0       False    False         False\n1       False    False         False\n2       False    False         False\n3       False    False         False\n4       False    False         False"
                    },
                    "execution_count": 17,
                    "metadata": {},
                    "output_type": "execute_result"
                }
            ],
            "source": "missing_data = df_canada.isnull()\nmissing_data.head(5)"
        },
        {
            "cell_type": "code",
            "execution_count": 18,
            "metadata": {},
            "outputs": [
                {
                    "name": "stdout",
                    "output_type": "stream",
                    "text": "PostalCode\nFalse    103\nName: PostalCode, dtype: int64\n\nBorough\nFalse    103\nName: Borough, dtype: int64\n\nNeighborhood\nFalse    103\nName: Neighborhood, dtype: int64\n\n"
                }
            ],
            "source": "for column in missing_data.columns.values.tolist():\n    print(column)\n    print (missing_data[column].value_counts())\n    print(\"\")  "
        },
        {
            "cell_type": "code",
            "execution_count": 19,
            "metadata": {},
            "outputs": [
                {
                    "data": {
                        "text/plain": "(103, 3)"
                    },
                    "execution_count": 19,
                    "metadata": {},
                    "output_type": "execute_result"
                }
            ],
            "source": "df_canada.shape"
        },
        {
            "cell_type": "code",
            "execution_count": 20,
            "metadata": {},
            "outputs": [
                {
                    "name": "stdout",
                    "output_type": "stream",
                    "text": "Requirement already satisfied: geopy in /opt/conda/envs/Python-3.7-main/lib/python3.7/site-packages (2.0.0)\r\nRequirement already satisfied: geographiclib<2,>=1.49 in /opt/conda/envs/Python-3.7-main/lib/python3.7/site-packages (from geopy) (1.50)\r\n"
                }
            ],
            "source": "!pip install geopy"
        },
        {
            "cell_type": "code",
            "execution_count": 24,
            "metadata": {},
            "outputs": [
                {
                    "name": "stdout",
                    "output_type": "stream",
                    "text": "(43.6534817, -79.3839347)\n"
                }
            ],
            "source": "from geopy.geocoders import Nominatim\ngeolocator = Nominatim(user_agent=\"My_App\")\nlocation = geolocator.geocode('{}, Toronto, ON'.format('M3A'))\nprint((location.latitude, location.longitude))\n"
        },
        {
            "cell_type": "code",
            "execution_count": 33,
            "metadata": {},
            "outputs": [
                {
                    "name": "stdout",
                    "output_type": "stream",
                    "text": "Flatiron Building, 175, 5th Avenue, Flatiron District, Manhattan Community Board 5, Manhattan, New York County, New York, 10010, United States\n(40.741059199999995, -73.98964162240998)\n"
                }
            ],
            "source": "location = geolocator.geocode(\"175 5th Avenue NYC\")\nprint(location.address)\nprint((location.latitude, location.longitude))"
        },
        {
            "cell_type": "code",
            "execution_count": null,
            "metadata": {},
            "outputs": [],
            "source": "for data in neighborhoods_data:\n    borough = neighborhood_name = data['properties']['borough'] \n    neighborhood_name = data['properties']['name']\n        \n    neighborhood_latlon = data['geometry']['coordinates']\n    neighborhood_lat = neighborhood_latlon[1]\n    neighborhood_lon = neighborhood_latlon[0]\n    \n    neighborhoods = neighborhoods.append({'Borough': borough,\n                                          'Neighborhood': neighborhood_name,\n                                          'Latitude': neighborhood_lat,\n                                          'Longitude': neighborhood_lon}, ignore_index=True)"
        },
        {
            "cell_type": "code",
            "execution_count": 26,
            "metadata": {},
            "outputs": [
                {
                    "data": {
                        "text/plain": "'M4A'"
                    },
                    "execution_count": 26,
                    "metadata": {},
                    "output_type": "execute_result"
                }
            ],
            "source": "df_canada.loc[1,'PostalCode']"
        },
        {
            "cell_type": "code",
            "execution_count": 32,
            "metadata": {},
            "outputs": [
                {
                    "name": "stdout",
                    "output_type": "stream",
                    "text": "iteracion:0\nPostal Code:M3A\nLocacion:Toronto, Golden Horseshoe, Ontario, Canada\niteracion:1\nPostal Code:M4A\nLocacion:None\niteracion:2\nPostal Code:M5A\nLocacion:None\niteracion:3\nPostal Code:M6A\nLocacion:None\niteracion:4\nPostal Code:M7A\nLocacion:Toronto, Golden Horseshoe, Ontario, Canada\niteracion:5\nPostal Code:M9A\nLocacion:None\niteracion:6\nPostal Code:M1B\nLocacion:Toronto, Golden Horseshoe, Ontario, Canada\niteracion:7\nPostal Code:M3B\nLocacion:None\niteracion:8\nPostal Code:M4B\nLocacion:None\niteracion:9\nPostal Code:M5B\nLocacion:None\niteracion:10\nPostal Code:M6B\nLocacion:None\niteracion:11\nPostal Code:M9B\nLocacion:None\niteracion:12\nPostal Code:M1C\nLocacion:Toronto, Golden Horseshoe, Ontario, Canada\niteracion:13\nPostal Code:M3C\nLocacion:None\niteracion:14\nPostal Code:M4C\nLocacion:None\niteracion:15\nPostal Code:M5C\nLocacion:None\niteracion:16\nPostal Code:M6C\nLocacion:None\niteracion:17\nPostal Code:M9C\nLocacion:Etobicoke, Toronto, Golden Horseshoe, Ontario, M9C, Canada\niteracion:18\nPostal Code:M1E\nLocacion:None\niteracion:19\nPostal Code:M4E\nLocacion:None\niteracion:20\nPostal Code:M5E\nLocacion:Old Toronto, Toronto, Golden Horseshoe, Ontario, M5E, Canada\niteracion:21\nPostal Code:M6E\nLocacion:None\niteracion:22\nPostal Code:M1G\nLocacion:Scarborough, Toronto, Golden Horseshoe, Ontario, M1G, Canada\niteracion:23\nPostal Code:M4G\nLocacion:None\niteracion:24\nPostal Code:M5G\nLocacion:None\niteracion:25\nPostal Code:M6G\nLocacion:None\niteracion:26\nPostal Code:M1H\nLocacion:None\niteracion:27\nPostal Code:M2H\nLocacion:None\niteracion:28\nPostal Code:M3H\nLocacion:None\niteracion:29\nPostal Code:M4H\nLocacion:None\niteracion:30\nPostal Code:M5H\nLocacion:Old Toronto, Toronto, Golden Horseshoe, Ontario, M5H, Canada\niteracion:31\nPostal Code:M6H\nLocacion:None\niteracion:32\nPostal Code:M1J\nLocacion:None\niteracion:33\nPostal Code:M2J\nLocacion:North York, Toronto, Golden Horseshoe, Ontario, M2J, Canada\niteracion:34\nPostal Code:M3J\nLocacion:None\niteracion:35\nPostal Code:M4J\nLocacion:None\niteracion:36\nPostal Code:M5J\nLocacion:Old Toronto, Toronto, Golden Horseshoe, Ontario, M5J, Canada\niteracion:37\nPostal Code:M6J\nLocacion:None\niteracion:38\nPostal Code:M1K\nLocacion:None\niteracion:39\nPostal Code:M2K\nLocacion:None\niteracion:40\nPostal Code:M3K\nLocacion:None\niteracion:41\nPostal Code:M4K\nLocacion:None\niteracion:42\nPostal Code:M5K\nLocacion:None\niteracion:43\nPostal Code:M6K\nLocacion:Old Toronto, Toronto, Golden Horseshoe, Ontario, M6K, Canada\niteracion:44\nPostal Code:M1L\nLocacion:None\niteracion:45\nPostal Code:M2L\nLocacion:None\niteracion:46\nPostal Code:M3L\nLocacion:None\niteracion:47\nPostal Code:M4L\nLocacion:None\niteracion:48\nPostal Code:M5L\nLocacion:None\niteracion:49\nPostal Code:M6L\nLocacion:None\niteracion:50\nPostal Code:M9L\nLocacion:None\niteracion:51\nPostal Code:M1M\nLocacion:None\niteracion:52\nPostal Code:M2M\nLocacion:m2m Condominiums (Construction), Willowdale, North York, Toronto, Golden Horseshoe, Ontario, Canada\niteracion:53\nPostal Code:M3M\nLocacion:None\niteracion:54\nPostal Code:M4M\nLocacion:None\niteracion:55\nPostal Code:M5M\nLocacion:None\niteracion:56\nPostal Code:M6M\nLocacion:None\niteracion:57\nPostal Code:M9M\nLocacion:None\niteracion:58\nPostal Code:M1N\nLocacion:None\niteracion:59\nPostal Code:M2N\nLocacion:North York, Toronto, Golden Horseshoe, Ontario, M2N, Canada\niteracion:60\nPostal Code:M3N\nLocacion:None\niteracion:61\nPostal Code:M4N\nLocacion:None\niteracion:62\nPostal Code:M5N\nLocacion:None\niteracion:63\nPostal Code:M6N\nLocacion:York, Toronto, Golden Horseshoe, Ontario, M6N, Canada\niteracion:64\nPostal Code:M9N\nLocacion:None\niteracion:65\nPostal Code:M1P\nLocacion:None\niteracion:66\nPostal Code:M2P\nLocacion:None\niteracion:67\nPostal Code:M4P\nLocacion:None\niteracion:68\nPostal Code:M5P\nLocacion:None\niteracion:69\nPostal Code:M6P\nLocacion:Old Toronto, Toronto, Golden Horseshoe, Ontario, M6P, Canada\niteracion:70\nPostal Code:M9P\nLocacion:None\niteracion:71\nPostal Code:M1R\nLocacion:None\niteracion:72\nPostal Code:M2R\nLocacion:None\niteracion:73\nPostal Code:M4R\nLocacion:None\niteracion:74\nPostal Code:M5R\nLocacion:None\niteracion:75\nPostal Code:M6R\nLocacion:None\niteracion:76\nPostal Code:M7R\nLocacion:None\niteracion:77\nPostal Code:M9R\nLocacion:Etobicoke, Toronto, Golden Horseshoe, Ontario, M9R, Canada\niteracion:78\nPostal Code:M1S\nLocacion:None\niteracion:79\nPostal Code:M4S\nLocacion:None\niteracion:80\nPostal Code:M5S\nLocacion:None\niteracion:81\nPostal Code:M6S\nLocacion:Old Toronto, Toronto, Golden Horseshoe, Ontario, M6S, Canada\niteracion:82\nPostal Code:M1T\nLocacion:None\niteracion:83\nPostal Code:M4T\nLocacion:None\niteracion:84\nPostal Code:M5T\nLocacion:None\niteracion:85\nPostal Code:M1V\nLocacion:None\niteracion:86\nPostal Code:M4V\nLocacion:None\niteracion:87\nPostal Code:M5V\nLocacion:M5V Condominiums, 373, Lane South King West Blue Jays Way, Fashion District, Spadina\u2014Fort York, Old Toronto, Toronto, Golden Horseshoe, Ontario, M5V 1K1, Canada\niteracion:88\nPostal Code:M8V\nLocacion:None\niteracion:89\nPostal Code:M9V\nLocacion:None\niteracion:90\nPostal Code:M1W\nLocacion:Scarborough, Toronto, Golden Horseshoe, Ontario, M1W, Canada\niteracion:91\nPostal Code:M4W\nLocacion:None\niteracion:92\nPostal Code:M5W\nLocacion:None\niteracion:93\nPostal Code:M8W\nLocacion:None\niteracion:94\nPostal Code:M9W\nLocacion:None\niteracion:95\nPostal Code:M1X\nLocacion:None\niteracion:96\nPostal Code:M4X\nLocacion:Yaris Super Store, 607, Parliament Street, Cabbagetown, Toronto Centre, Old Toronto, Toronto, Golden Horseshoe, Ontario, M4X 1P9, Canada\niteracion:97\nPostal Code:M5X\nLocacion:None\niteracion:98\nPostal Code:M8X\nLocacion:None\niteracion:99\nPostal Code:M4Y\nLocacion:None\niteracion:100\nPostal Code:M7Y\nLocacion:None\niteracion:101\nPostal Code:M8Y\nLocacion:None\niteracion:102\nPostal Code:M8Z\nLocacion:None\n"
                }
            ],
            "source": "for i in range(len(df_canada)): \n    #print(\"Total income in \"+ df.loc[i,\"Date\"]+ \" is:\"+str(df.loc[i,\"Income_1\"]+df.loc[i,\"Income_2\"]))\n    location = geolocator.geocode('{}, Toronto, ON'.format(df_canada.loc[i,'PostalCode']))\n    print(\"iteracion:\"+str(i)+\"\\nPostal Code:\"+str(df_canada.loc[i,'PostalCode'])+\"\\nLocacion:\"+str(location))"
        },
        {
            "cell_type": "code",
            "execution_count": 58,
            "metadata": {},
            "outputs": [
                {
                    "name": "stdout",
                    "output_type": "stream",
                    "text": "None\n"
                }
            ],
            "source": "location = geolocator.geocode('{}, Toronto, ON'.format('M6A'))\nprint(location)"
        },
        {
            "cell_type": "code",
            "execution_count": null,
            "metadata": {},
            "outputs": [],
            "source": ""
        }
    ],
    "metadata": {
        "kernelspec": {
            "display_name": "Python 3.7",
            "language": "python",
            "name": "python3"
        },
        "language_info": {
            "codemirror_mode": {
                "name": "ipython",
                "version": 3
            },
            "file_extension": ".py",
            "mimetype": "text/x-python",
            "name": "python",
            "nbconvert_exporter": "python",
            "pygments_lexer": "ipython3",
            "version": "3.7.9"
        }
    },
    "nbformat": 4,
    "nbformat_minor": 1
}